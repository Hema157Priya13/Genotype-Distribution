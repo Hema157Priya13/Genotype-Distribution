{
  "nbformat": 4,
  "nbformat_minor": 0,
  "metadata": {
    "colab": {
      "provenance": []
    },
    "kernelspec": {
      "name": "python3",
      "display_name": "Python 3"
    },
    "language_info": {
      "name": "python"
    }
  },
  "cells": [
    {
      "cell_type": "code",
      "execution_count": 30,
      "metadata": {
        "id": "WDgX3G3EsBLH"
      },
      "outputs": [],
      "source": [
        "import numpy as np"
      ]
    },
    {
      "cell_type": "code",
      "source": [
        "import sympy as sm\n",
        "import scipy as sc\n",
        "from scipy.linalg import expm"
      ],
      "metadata": {
        "id": "MxDiEBIFsEAO"
      },
      "execution_count": 31,
      "outputs": []
    },
    {
      "cell_type": "code",
      "source": [
        "#Solving the problem statement as mentioned in Presentation\n",
        "#The matrix A obtained is\n",
        "A = np.array([[1, 0.5, 0],[0, 0.5, 1], [0,0,0]])  \n",
        "x0 = np.array([1/3, 1/3, 1/3])   #initial frequency"
      ],
      "metadata": {
        "id": "0SDJzbHFsjjz"
      },
      "execution_count": 53,
      "outputs": []
    },
    {
      "cell_type": "code",
      "source": [
        "type(x0)"
      ],
      "metadata": {
        "colab": {
          "base_uri": "https://localhost:8080/"
        },
        "id": "DIJuV5FQooNY",
        "outputId": "ce1e9164-4cd8-433e-f2b4-dce6347d2acb"
      },
      "execution_count": 40,
      "outputs": [
        {
          "output_type": "execute_result",
          "data": {
            "text/plain": [
              "numpy.ndarray"
            ]
          },
          "metadata": {},
          "execution_count": 40
        }
      ]
    },
    {
      "cell_type": "code",
      "source": [
        "Y = sm.Matrix(A)\n",
        "print(Y)\n",
        "P,D = Y.diagonalize()   # Y = PDP^-1 it returns P and D"
      ],
      "metadata": {
        "colab": {
          "base_uri": "https://localhost:8080/"
        },
        "id": "xrrE-f4MvdWi",
        "outputId": "20f1ddd1-b101-49ae-920e-f73c1dea6f22"
      },
      "execution_count": 41,
      "outputs": [
        {
          "output_type": "stream",
          "name": "stdout",
          "text": [
            "Matrix([[1.00000000000000, 0.500000000000000, 0.0], [0.0, 0.500000000000000, 1.00000000000000], [0.0, 0.0, 0.0]])\n"
          ]
        }
      ]
    },
    {
      "cell_type": "code",
      "source": [
        "P"
      ],
      "metadata": {
        "colab": {
          "base_uri": "https://localhost:8080/",
          "height": 78
        },
        "id": "orPwbPiOvkdD",
        "outputId": "536c2d67-595b-4e8d-c855-a55881ad0339"
      },
      "execution_count": 42,
      "outputs": [
        {
          "output_type": "execute_result",
          "data": {
            "text/plain": [
              "Matrix([\n",
              "[1.0, -1.0,  0.5],\n",
              "[  0,  1.0, -1.0],\n",
              "[  0,    0,  0.5]])"
            ],
            "text/latex": "$\\displaystyle \\left[\\begin{matrix}1.0 & -1.0 & 0.5\\\\0 & 1.0 & -1.0\\\\0 & 0 & 0.5\\end{matrix}\\right]$"
          },
          "metadata": {},
          "execution_count": 42
        }
      ]
    },
    {
      "cell_type": "code",
      "source": [
        "D"
      ],
      "metadata": {
        "colab": {
          "base_uri": "https://localhost:8080/",
          "height": 78
        },
        "id": "FbXLkntCvlrR",
        "outputId": "9032f00c-be3c-450a-f767-3ce73b599bc2"
      },
      "execution_count": 43,
      "outputs": [
        {
          "output_type": "execute_result",
          "data": {
            "text/plain": [
              "Matrix([\n",
              "[1.0,   0, 0],\n",
              "[  0, 0.5, 0],\n",
              "[  0,   0, 0]])"
            ],
            "text/latex": "$\\displaystyle \\left[\\begin{matrix}1.0 & 0 & 0\\\\0 & 0.5 & 0\\\\0 & 0 & 0\\end{matrix}\\right]$"
          },
          "metadata": {},
          "execution_count": 43
        }
      ]
    },
    {
      "cell_type": "code",
      "source": [
        "D1 = np.array(D)\n",
        "n = sm.symbols('n')\n",
        "D2 =(D1)**n"
      ],
      "metadata": {
        "id": "7ONkJrUQvmxz"
      },
      "execution_count": 44,
      "outputs": []
    },
    {
      "cell_type": "code",
      "source": [
        "D2"
      ],
      "metadata": {
        "colab": {
          "base_uri": "https://localhost:8080/"
        },
        "id": "4uLooS1hnrCK",
        "outputId": "e91f95c6-ebad-415b-f28b-a606533aff0c"
      },
      "execution_count": 45,
      "outputs": [
        {
          "output_type": "execute_result",
          "data": {
            "text/plain": [
              "array([[1.0**n, 0**n, 0**n],\n",
              "       [0**n, 0.5**n, 0**n],\n",
              "       [0**n, 0**n, 0**n]], dtype=object)"
            ]
          },
          "metadata": {},
          "execution_count": 45
        }
      ]
    },
    {
      "cell_type": "code",
      "source": [
        "from numpy.linalg import inv\n",
        "P1 = np.array(P)\n",
        "B = (P1)@(D2)@(inv(P1.astype(float)))"
      ],
      "metadata": {
        "id": "aI8qWOb9nuhV"
      },
      "execution_count": 46,
      "outputs": []
    },
    {
      "cell_type": "code",
      "source": [
        "B"
      ],
      "metadata": {
        "colab": {
          "base_uri": "https://localhost:8080/"
        },
        "id": "h4N54tpUcpKH",
        "outputId": "2c485935-c2dc-42fe-d380-995c280ebf07"
      },
      "execution_count": 47,
      "outputs": [
        {
          "output_type": "execute_result",
          "data": {
            "text/plain": [
              "array([[-0.5*0**n + 1.0*1.0**n, 1.0*0**n - 1.0*0.5**n + 1.0*1.0**n,\n",
              "        3.5*0**n - 2.0*0.5**n + 1.0*1.0**n],\n",
              "       [0, -1.0*0**n + 1.0*0.5**n, -2.0*0**n + 2.0*0.5**n],\n",
              "       [0.5*0**n, 1.0*0**n, 2.5*0**n]], dtype=object)"
            ]
          },
          "metadata": {},
          "execution_count": 47
        }
      ]
    },
    {
      "cell_type": "code",
      "source": [
        "xn = B@x0\n",
        "xn"
      ],
      "metadata": {
        "colab": {
          "base_uri": "https://localhost:8080/"
        },
        "id": "Qw50G4vDc3ty",
        "outputId": "e653d5ef-1c4f-40e1-ac33-2022c43e9e3f"
      },
      "execution_count": 48,
      "outputs": [
        {
          "output_type": "execute_result",
          "data": {
            "text/plain": [
              "array([1.33333333333333*0**n - 1.0*0.5**n + 1.0*1.0**n,\n",
              "       -1.0*0**n + 1.0*0.5**n, 1.33333333333333*0**n], dtype=object)"
            ]
          },
          "metadata": {},
          "execution_count": 48
        }
      ]
    },
    {
      "cell_type": "code",
      "source": [
        "from sympy import limit, oo\n",
        "l = []\n",
        "for i in range(0,3):\n",
        "  l.append(limit(xn[i],n, oo))"
      ],
      "metadata": {
        "id": "4IsObldSdyyJ"
      },
      "execution_count": 49,
      "outputs": []
    },
    {
      "cell_type": "code",
      "source": [
        "r = np.array(l)\n",
        "print(r)"
      ],
      "metadata": {
        "colab": {
          "base_uri": "https://localhost:8080/"
        },
        "id": "n734dG2SoVi8",
        "outputId": "af3cf383-876e-413d-ac64-0b8b4d02761b"
      },
      "execution_count": 50,
      "outputs": [
        {
          "output_type": "stream",
          "name": "stdout",
          "text": [
            "[1.00000000000000 0 0]\n"
          ]
        }
      ]
    },
    {
      "cell_type": "code",
      "source": [
        "# an (after n generations) has frequency 1 (Genetype with dominating Gene R)"
      ],
      "metadata": {
        "id": "NAwHWjRao-iJ"
      },
      "execution_count": 52,
      "outputs": []
    }
  ]
}